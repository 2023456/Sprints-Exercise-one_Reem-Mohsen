{
  "nbformat": 4,
  "nbformat_minor": 0,
  "metadata": {
    "colab": {
      "provenance": [],
      "collapsed_sections": []
    },
    "kernelspec": {
      "name": "python3",
      "display_name": "Python 3"
    },
    "language_info": {
      "name": "python"
    }
  },
  "cells": [
    {
      "cell_type": "markdown",
      "source": [
        "1-Given the variables:"
      ],
      "metadata": {
        "id": "fIiXoATHuCMf"
      }
    },
    {
      "cell_type": "code",
      "source": [
        "planet = \"Earth\"\n",
        "diameter = 12742"
      ],
      "metadata": {
        "id": "EkhrquvGuH6D"
      },
      "execution_count": 2,
      "outputs": []
    },
    {
      "cell_type": "markdown",
      "source": [
        "Use .format() to print the following string:\n",
        "\n",
        "The diameter of Earth is 12742 kilometers."
      ],
      "metadata": {
        "id": "4rkFFrZzuKYg"
      }
    },
    {
      "cell_type": "code",
      "source": [
        "print('The diameter of {} is {} kilometers '.format(planet,diameter))"
      ],
      "metadata": {
        "colab": {
          "base_uri": "https://localhost:8080/"
        },
        "id": "zg629_cfuMoK",
        "outputId": "faf63218-d8f9-4933-b2e0-a79922331acf"
      },
      "execution_count": 3,
      "outputs": [
        {
          "output_type": "stream",
          "name": "stdout",
          "text": [
            "The diameter of Earth is 12742 kilometers \n"
          ]
        }
      ]
    },
    {
      "cell_type": "markdown",
      "source": [
        "2 - Given this nested dictionary grab the word \"hello\". Be prepared, this will be annoying/tricky"
      ],
      "metadata": {
        "id": "K9B42maHuxUI"
      }
    },
    {
      "cell_type": "code",
      "source": [
        "d = {'k1':[1,2,3,{'tricky':['oh','man','inception',{'target':[1,2,3,'hello']}]}]}"
      ],
      "metadata": {
        "id": "2DpHLF6zu2RX"
      },
      "execution_count": 68,
      "outputs": []
    },
    {
      "cell_type": "code",
      "source": [
        "print(d['k1'][3]['tricky'][3]['target'][3])"
      ],
      "metadata": {
        "colab": {
          "base_uri": "https://localhost:8080/"
        },
        "id": "tFDao04hu7VN",
        "outputId": "75e54aa0-43ea-45bb-e8b7-a2116e1b164e"
      },
      "execution_count": 70,
      "outputs": [
        {
          "output_type": "stream",
          "name": "stdout",
          "text": [
            "hello\n"
          ]
        }
      ]
    },
    {
      "cell_type": "markdown",
      "source": [
        "3 - Use lambda expressions and the filter() function to filter out words from a list that don't start with the letter 's'. For example:\n",
        "\n",
        "seq = ['soup','dog','salad','cat','great']\n",
        "\n",
        "should be filtered down to:\n",
        "\n",
        "['soup','salad']"
      ],
      "metadata": {
        "id": "OBs1ryB-vGIk"
      }
    },
    {
      "cell_type": "code",
      "source": [
        "seq = ['soup','dog','salad','cat','great']\n"
      ],
      "metadata": {
        "id": "h0b3iroovMsX"
      },
      "execution_count": 71,
      "outputs": []
    },
    {
      "cell_type": "code",
      "source": [
        "print([x for x in seq  if x[0] == 's'])"
      ],
      "metadata": {
        "colab": {
          "base_uri": "https://localhost:8080/"
        },
        "id": "YlsCRr1jvQQq",
        "outputId": "8bca1848-c62b-4f02-8e80-92ba7b0a0a0e"
      },
      "execution_count": 23,
      "outputs": [
        {
          "output_type": "stream",
          "name": "stdout",
          "text": [
            "['soup', 'salad']\n"
          ]
        }
      ]
    },
    {
      "cell_type": "markdown",
      "source": [
        "4 - You are driving a little too fast, and a police officer stops you. Write a function to return one of 3 possible results: \"No ticket\", \"Small ticket\", or \"Big Ticket\". If your speed is 60 or less, the result is \"No Ticket\". If speed is between 61 and 80 inclusive, the result is \"Small Ticket\". If speed is 81 or more, the result is \"Big Ticket\". Unless it is your birthday (encoded as a boolean value in the parameters of the function) -- on your birthday, your speed can be 5 higher in all cases"
      ],
      "metadata": {
        "id": "ZzcwW5UmvrOO"
      }
    },
    {
      "cell_type": "code",
      "source": [
        "# Write your solution here\n",
        "def caught_speeding(speed, is_birthday):  \n",
        "  if is_birthday==True:\n",
        "      if speed<=60*5:\n",
        "         return 'No Ticket'\n",
        "      elif speed<=80*5 and speed>=61*5: \n",
        "        return 'Small Ticket'\n",
        "      else:\n",
        "        return 'Big Ticket'\n",
        "  else: \n",
        "    if speed<=60:\n",
        "         return 'No Ticket'\n",
        "    elif speed<=80 and speed>=61: \n",
        "      return 'Small Ticket'\n",
        "    else:\n",
        "        return 'Big Ticket'\n"
      ],
      "metadata": {
        "id": "MoLjJkaO0qKJ"
      },
      "execution_count": 27,
      "outputs": []
    },
    {
      "cell_type": "code",
      "source": [
        "# Would you like to check your function here to see if it is performing as we wanted?\n",
        "caught_speeding(61,True)\n",
        "caught_speeding(81,True)"
      ],
      "metadata": {
        "colab": {
          "base_uri": "https://localhost:8080/",
          "height": 35
        },
        "id": "1NsQeA_53LpQ",
        "outputId": "3b55f015-16f0-45f6-e219-cff3d3da9344"
      },
      "execution_count": 28,
      "outputs": [
        {
          "output_type": "execute_result",
          "data": {
            "text/plain": [
              "'No Ticket'"
            ],
            "application/vnd.google.colaboratory.intrinsic+json": {
              "type": "string"
            }
          },
          "metadata": {},
          "execution_count": 28
        }
      ]
    },
    {
      "cell_type": "markdown",
      "source": [
        "5- Write a Python program to returns sum of all divisors of a number.\n",
        "\n",
        "If number = 8\n",
        "\n",
        "If number = 12\n",
        "\n",
        "Expected Output:\n",
        "\n",
        "7\n",
        "\n",
        "16"
      ],
      "metadata": {
        "id": "jynaptvM4Fzs"
      }
    },
    {
      "cell_type": "code",
      "source": [
        "def sum_div(number):\n",
        "    divisors = [1]\n",
        "    for i in range(2, number):\n",
        "        if (number % i)==0:\n",
        "            divisors.append(i)\n",
        "    return sum(divisors)\n",
        "print(sum_div(8))\n",
        "print(sum_div(12))"
      ],
      "metadata": {
        "colab": {
          "base_uri": "https://localhost:8080/"
        },
        "id": "eWLdfhrE4G2H",
        "outputId": "7b71caa4-e466-4512-e2a3-dcb2ea2c7fbc"
      },
      "execution_count": 32,
      "outputs": [
        {
          "output_type": "stream",
          "name": "stdout",
          "text": [
            "7\n",
            "16\n"
          ]
        }
      ]
    },
    {
      "cell_type": "markdown",
      "source": [
        "6- Sometimes, while working with Python Matrix, we can have a problem in which we need to perform grouping of all the elements with are same. This kind of problem can have application in data domains. Let’s discuss certain ways in which this task can be performed.\n",
        "\n",
        "Input : test_list = [1, 3, 4, 4, 2, 3]\n",
        "\n",
        "Output : [[1], [2], [3, 3], [4, 4]]\n",
        "\n",
        "Input : test_list = [1, 3, 4, 2]\n",
        "\n",
        "Output : [[1], [2], [3], [4]"
      ],
      "metadata": {
        "id": "gUlyXYwm8Faa"
      }
    },
    {
      "cell_type": "code",
      "source": [
        "from itertools import groupby\n",
        "test_list_1= [1, 3, 4, 4, 2, 3]\n",
        "test_list_2 = [1, 3, 4, 2]\n",
        "res_1 = [list(val) for key , val in groupby(sorted(test_list_1))] \n",
        "res_2 = [list(val) for key , val in groupby(sorted(test_list_2))] \n",
        "print(res_1);print(res_2)"
      ],
      "metadata": {
        "colab": {
          "base_uri": "https://localhost:8080/"
        },
        "id": "geKdXDMb8JOh",
        "outputId": "76aee873-8262-49da-9d90-25b2dc693ef2"
      },
      "execution_count": 59,
      "outputs": [
        {
          "output_type": "stream",
          "name": "stdout",
          "text": [
            "[[1], [2], [3, 3], [4, 4]]\n",
            "[[1], [2], [3], [4]]\n"
          ]
        }
      ]
    },
    {
      "cell_type": "markdown",
      "source": [
        "7- Given two lists a, b. Check if two lists have at least one element common in them.\n",
        "\n",
        "Input : a = [1, 2, 3, 4, 5] b = [5, 6, 7, 8, 9]\n",
        "\n",
        "Output : True\n",
        "\n",
        "Input : a=[1, 2, 3, 4, 5] b=[6, 7, 8, 9]\n",
        "\n",
        "Output : False"
      ],
      "metadata": {
        "id": "4Xodm4PdCTls"
      }
    },
    {
      "cell_type": "code",
      "source": [
        "a=[1, 2, 3, 4, 5] ; b=[6, 7, 8, 9]\n",
        "m=0\n",
        "for x in a:\n",
        "  for y in b:\n",
        "    if x==y:\n",
        "       m=m+1\n",
        "if m>0:\n",
        "  print(True)\n",
        "else:\n",
        "  print(False)"
      ],
      "metadata": {
        "colab": {
          "base_uri": "https://localhost:8080/"
        },
        "id": "6Fy3Y-UWCYAD",
        "outputId": "c0e39d08-1b81-4729-f4f9-6ccd4a23a4f9"
      },
      "execution_count": 63,
      "outputs": [
        {
          "output_type": "stream",
          "name": "stdout",
          "text": [
            "False\n"
          ]
        }
      ]
    }
  ]
}